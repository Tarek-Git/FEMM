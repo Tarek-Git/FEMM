#14h
#core loses 
#Shell Trafo , Mu = const. =2200 , Freq = 10kHz ...100kHz , Coil as Block, 0.5mm wire----------------------------
import csv
import femm
import os
from scipy import misc
import numpy as np
import matplotlib.pyplot as plt 

#Name of the Femm file the will be created and saved
name_of_femm_file = "shell_trafo_Mu_Var_N97_25C_circular_coil_core_loses"
name_of_csv_file = "shell_trafo_Mu_Var_N97_25C_wire_0.5mm_circular_coil_core_loses.csv"

#Run the Notebook with the function of the generate of the Modelle------------------------------------------------
%run shell_Trafo_generate.ipynb
create_shell_Trafo_with_circular_coil(problem=0, freq=10000, Mu=0, Temperature=25, wire="0.5mm", coil_type=1, Name_of_file=f"{name_of_femm_file}")
 # Mu = 0 -> non linear material 

#FEMM-------------------------------------------------------------------------------------------------------------
femm.openfemm()     
femm.opendocument(f"{name_of_femm_file}.fem")
#femm.mi_saveas(r"Shell_Trafo_var_freq.femm")

min = 10000 ; max = 110000 ; step = 10000
freq =  np.arange( min, max, step )                     # 20 Freq -> [0 Hz, 10 kHz, ... , 100 kHz]
loses = np.arange( min, max, step , dtype = np.double )
resistive_loses = np.arange( min, max, step , dtype = np.double )
total_loses = np.arange( min, max, step , dtype = np.double )
index = 0               #index to iterate lists
list_for_csv = [] ; values = []  #lists to create the csv file


for i in range (10000 , 110000 ,10000 ):   

    femm.mi_probdef( i, "millimeters", "planar", 1e-8, 21.6, 30, 0)  #problem definition 
    femm.mi_analyze(0)                                               
    femm.mi_loadsolution()    
                                           
    x1 = 10.8 ; y1 = 15.75 ; x2 = 11.3 ; y2 = 15.75
    for inner_wire in range(1,21,1):
        y1 -= 1.5 ; y2 -= 1.5
        femm.mo_selectblock( x1+0.2 , y1 )
        femm.mo_selectblock( -x1-0.2 , y1 )
    x3 = 11.3 ; y3 = 8.25 ; x4 = 11.8 ; y4 = 8.25
    for outter_wire in range(1,11,1):
        y3 -= 1.5 ; y4 -= 1.5
        femm.mo_selectblock( x3+0.2 , y3 )
        femm.mo_selectblock( -x3-0.2 , y3 )


    loses[index] = np.real(femm.mo_blockintegral(3))             #Hysterese, Eddy, and Proximity effects
    resistive_loses[index] = np.real(femm.mo_blockintegral(4))   #Resistive loses
    total_loses[index] = np.real(femm.mo_blockintegral(6))       #total loses
    freq[index] = i/1e3

    list_for_csv.append(i/1e3)
    list_for_csv.append(np.real(femm.mo_blockintegral(3)))
    list_for_csv.append(np.real(femm.mo_blockintegral(4)))
    list_for_csv.append(np.real(femm.mo_blockintegral(6)))
    values.append(list_for_csv)
    list_for_csv = []

    print( f"Hysterese, Eddy, and Proximity effects in the Coil: {loses[index]} Watts , Freq = {freq[index]} kHz")
    print(70*"-","\n")
    index += 1
#create_csv(name_of_csv_file ,  values) #create csv file param: (str  ,  [[x,y],[x,y],......])

femm.mo_showdensityplot(1, 0, 9.21765357754184e-005, 0.918618890359771, "bmag")
femm.mo_savebitmap("bitmap")
femm.closefemm()

#ploting-------------------------------------------------------------------------------------
plt.figure(figsize=(15,7))
plt.grid()
plt.plot(freq , loses           ,"rs--" ,color='b'  , label= "Hysterese, Eddy, and Proximity effects in the coil");
plt.plot(freq , resistive_loses ,"rs--" ,color = 'r', label= "Resistive loses");
plt.plot(freq , total_loses     ,"rs--" , color= 'g',label= "total loses");
plt.legend(loc="lower right")
plt.title("cirular coil Loses")
plt.xlabel("Freq (kHz)")
plt.ylabel("loses (Watts)")
plt.show()

path = r'C:\Users\abofta1\Desktop\Python'
image= plt.imread(os.path.join(path,'bitmap'))
fig, ax = plt.subplots(figsize=(18, 14))
ax.imshow(image);
