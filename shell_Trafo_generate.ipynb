#function to create 1.1kW shell Transformer mit Runden Leiter in der Spule, also nicht als Block
def create_shell_Trafo_with_circular_coil(problem = 0 ,freq = 10000 ,Mu = 2200,Temperature = 0 ,wire = "0.5mm", coil_type = 1 , Name_of_file = "No_name"):
    import femm 
    import numpy as np
    import matplotlib.pyplot as plt

    femm.openfemm()
    femm.create(problem)

    femm.mi_probdef(freq, "millimeters", "planar", 1e-8, 21.6,30,0)

    femm.mi_getmaterial("Air")
    femm.mi_getmaterial(wire)
    femm.mi_getmaterial("Copper")
    if Mu != 0 :
        femm.mi_addmaterial(f"Ferrite_mu_{Mu}" ,Mu ,Mu )
        material_name = f"Ferrite_mu_{Mu}"

    if Mu == 0:
        if Temperature == 25:
            material_name = "Ferrite_N97_25C"
            bh_file_path = "./BH/N97_BH_25.tab"
        if Temperature == 100:
            material_name = "Ferrite_N97_100C"
            bh_file_path = "./BH/N97_BH_100.tab"
        femm.mi_addmaterial(material_name)
        
        file = np.loadtxt(bh_file_path, delimiter = '\t')
        for row in file:
            if (row[0]< 0):
                row[0] = 0
            if (row[1]< 0):
                row[1] = 0

            femm.mi_addbhpoint(material_name , row[1]/1000 , row[0])  # H = row [0] A/m    , B = row[1] mT   -> row[1]/1000 T

    femm.mi_addcircprop("primary_coil" , 1 , 1)
    femm.mi_addcircprop("secondary_coil" , 1 , 1)

    femm.mi_addblocklabel(0,0)
    femm.mi_addblocklabel(14,0)
    femm.mi_addblocklabel(-14,0)

    femm.mi_selectlabel(0,0)
    femm.mi_setblockprop(material_name)
    femm.mi_selectlabel(0,0)

    femm.mi_selectlabel(14,0)
    femm.mi_selectlabel(-14,0)
    femm.mi_setblockprop("Air")
    femm.mi_selectlabel(14,0)
    femm.mi_selectlabel(-14,0)

    if coil_type == 0: #Block
        femm.mi_selectlabel(11.5,-1)
        femm.mi_setblockprop(wire,0,0,"coil",0,0,-20)
        femm.mi_selectlabel(11.5,-1)

        femm.mi_selectlabel(-11.5,-1)
        femm.mi_setblockprop(wire,0,0,"coil",0,0,20)
        femm.mi_selectlabel(-11.5,-1)

        femm.mi_selectlabel(11,3)
        femm.mi_setblockprop(wire,0,0,"coil",0,0,-10)
        femm.mi_selectlabel(11,3)

        femm.mi_selectlabel(-11,3)
        femm.mi_setblockprop(wire,0,0,"coil",0,0,10)
        femm.mi_selectlabel(-11,3)
    #if coil_type == 1: #circular coil
    #    femm.mi_selectlabel(11.5,-1)
    #    femm.mi_selectlabel(11.5,-1)
        #
        #
        #
        #
        # 

    femm.mi_addblocklabel(31,0)
    femm.mi_selectlabel(31,0)
    femm.mi_setblockprop("Air")
    femm.mi_selectlabel(31,0)

    femm.mi_makeABC(7, 50, 0, 0, 0)

    femm.mi_addnode(-30.2,31.2)
    femm.mi_addnode(30.2,31.2)
    femm.mi_addnode(30.2,-31.2)
    femm.mi_addnode(-30.2,-31.2)

    femm.mi_addsegment(-30.2,31.2 , 30.2,31.2)
    femm.mi_addsegment(30.2,31.2 , 30.2,-31.2)
    femm.mi_addsegment(30.2,-31.2 ,-30.2,-31.2 )
    femm.mi_addsegment(-30.2,31.2 , -30.2,-31.2)

    femm.mi_addnode(-20.2,22.4)
    femm.mi_addnode(20.2,22.4)
    femm.mi_addnode(20.2,-22.4)
    femm.mi_addnode(-20.2,-22.4)

    femm.mi_addsegment(20.2,22.4 , 20.2,-22.4)
    femm.mi_addsegment(-20.2,22.4 , -20.2,-22.4)

    femm.mi_addnode(-10.8,22.4)
    femm.mi_addnode(10.8,-22.4)
    femm.mi_addnode(10.8,22.4)
    femm.mi_addnode(-10.8,-22.4)

    femm.mi_addsegment(-20.2,22.4 , -10.8,22.4)
    femm.mi_addsegment(-20.2,-22.4 , -10.8,-22.4)
    femm.mi_addsegment(20.2,22.4 , 10.8,22.4)
    femm.mi_addsegment(20.2,-22.4 , 10.8,-22.4)
    femm.mi_addsegment(-10.8,22.4 , -10.8,-22.4)
    femm.mi_addsegment(10.8,22.4 , 10.8,-22.4)

    #inner coil circular
    x1 = 10.8 ; y1 = 15.75 ; x2 = 11.3 ; y2 = 15.75
    for inner_wire in range(1,21,1):
        y1 -= 1.5 ; y2 -= 1.5
        femm.mi_drawarc( x1,y1 , x2,y2 , 180 , 1 )
        femm.mi_drawarc( x2,y2, x1,y1 , 180 , 1 )

        #add material in the pimary wire
        femm.mi_addblocklabel(x1+0.2,y1)
        femm.mi_selectlabel( x1+0.2 , y1 )
        femm.mi_setblockprop("Copper",0,0,"primary_coil",0,0,-1)
        femm.mi_selectlabel( x1+0.2 , y1 )

        femm.mi_drawarc( -x1,y1 , -x2,y2 , 180 , 1 )
        femm.mi_drawarc( -x2,y2, -x1,y1 , 180 , 1 )
        femm.mi_addblocklabel( -x1-0.2 ,y1)
        femm.mi_selectlabel( -x1-0.2 , y1 )
        femm.mi_setblockprop("Copper",0,0,"primary_coil",0,0,1)
        femm.mi_selectlabel( -x1-0.2 , y1 )


    #outter coil circular
    x3 = 11.3 ; y3 = 8.25 ; x4 = 11.8 ; y4 = 8.25
    for outter_wire in range(1,11,1):
        y3 -= 1.5 ; y4 -= 1.5
        femm.mi_drawarc( x3,y3 , x4,y4 , 180 , 1 )
        femm.mi_drawarc( x4,y4, x3,y3 , 180 , 1 )
        femm.mi_addblocklabel( x3+0.2 ,y3)
        femm.mi_selectlabel( x3+0.2 , y3 )
        femm.mi_setblockprop("Copper",0,0,"secondary_coil",0,0,-1)
        femm.mi_selectlabel( x3+0.2 , y3 )

        femm.mi_drawarc( -x3,y3 , -x4,y4 , 180 , 1)
        femm.mi_drawarc( -x4,y4, -x3,y3 , 180 , 1)
        femm.mi_addblocklabel( -x3-0.2 ,y3)
        femm.mi_selectlabel( -x3-0.2 , y3 )
        femm.mi_setblockprop("Copper",0,0,"secondary_coil",0,0,1)
        femm.mi_selectlabel( -x3-0.2 , y3 )


    #Output String-----------------------------------

    if problem == 1:
        print(f"problem type: electrostatic problem \nwire type: {wire} \n")
    elif problem == 2:
        print(f"Heat flow problem \nwire type: {wire} \n")
    elif problem == 3:
        print(f"Current flow problem \nwire type: {wire} \n")
    else:
        print(f"Magnetics problem \n\nwire type: {wire} \n")
    
    if Mu == 0:
        print(f"Mu is Variabel , Temperatur: {Temperature}")
    else:
        print(f"Mu is {Mu} H/m\n")

    femm.mi_saveas(f"{Name_of_file}.fem")
    return None
